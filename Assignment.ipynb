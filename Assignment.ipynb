{
 "cells": [
  {
   "cell_type": "code",
   "execution_count": 1,
   "metadata": {},
   "outputs": [],
   "source": [
    "import numpy as np\n",
    "import pandas as pd"
   ]
  },
  {
   "cell_type": "markdown",
   "metadata": {},
   "source": [
    "### To find the repeated questions in the master dataset"
   ]
  },
  {
   "cell_type": "code",
   "execution_count": null,
   "metadata": {},
   "outputs": [],
   "source": [
    "import csv\n",
    "entries=[]  #an empty list to store the second column\n",
    "duplicate_entries =[]\n",
    "with open('C:/Users/lalit/Desktop/Others/Numpy_Pandas_code/exam_prep/500_questions.csv', 'r') as rf:\n",
    "        reader = csv.reader(rf, delimiter=',')\n",
    "        for row in reader:\n",
    "            #if row in reader:\n",
    "            entries.append(row)\n",
    "        else:\n",
    "            duplicate_entries.append(row) \n",
    "        \n",
    "        \n",
    "if len(duplicate_entries) > 0:\n",
    "    with open('C:/Users/lalit/Desktop/Others/Numpy_Pandas_code/exam_prep/out.txt', 'w') as out_file:\n",
    "        with open('C:/Users/lalit/Desktop/Others/Numpy_Pandas_code/exam_prep/500_questions.csv', 'r') as rf:\n",
    "            for row in duplicate_entries:\n",
    "                print (row)\n",
    "                out_file.write(row[1])\n",
    "else:\n",
    "    print (\"No repetitions\")\n",
    "        "
   ]
  },
  {
   "cell_type": "markdown",
   "metadata": {},
   "source": [
    "### Finding the unique entries of topic and Subjects in the topics dataset."
   ]
  },
  {
   "cell_type": "code",
   "execution_count": null,
   "metadata": {},
   "outputs": [],
   "source": [
    "import csv\n",
    "topic_list=[] \n",
    "subject_list=[]\n",
    "with open('C:/Users/lalit/Desktop/Others/Numpy_Pandas_code/exam_prep/topic_dataset.csv', 'r') as rf:\n",
    "    reader = csv.reader(rf)\n",
    "    for col in reader:\n",
    "        subject_list.extend([col[2]])\n",
    "        topic_list.extend([col[1]])"
   ]
  },
  {
   "cell_type": "code",
   "execution_count": null,
   "metadata": {},
   "outputs": [],
   "source": [
    "topic_list = set(topic_list)\n",
    "topic_list.remove('topic')\n",
    "topic_list"
   ]
  },
  {
   "cell_type": "code",
   "execution_count": null,
   "metadata": {},
   "outputs": [],
   "source": [
    "subject_list = set(subject_list)\n",
    "subject_list.remove('subject')\n",
    "subject_list"
   ]
  },
  {
   "cell_type": "markdown",
   "metadata": {},
   "source": [
    "### Finding the most commonly asked questions w.r.t subjects by having 'topics' as keyword\n",
    "\n",
    "The subjects are divided into three.Namely, Operationg System, Database management System and Object Oriented programming.\n",
    "the topics under these subjects are segregated accordingly in a list.\n",
    "\n",
    "The goal is to separate the questions falling under the list of topics corresponding to the subjects from the original dataset. So, the questions will be divided into 3 categories according to the subjects. Then, we can check whether any questions are being repeated between these categories. If so, they might be the commonly asked FAQ's."
   ]
  },
  {
   "cell_type": "code",
   "execution_count": 3,
   "metadata": {},
   "outputs": [],
   "source": [
    "keywords_os = ['fcfs','buffering','deadlock','caching','security','scheduling']\n",
    "keywords_dms= ['dml','joints','ddl','transaction','sql','keys']\n",
    "keywords_oops= ['jdbc','applet','polymorphism','thread','Inheritance','encapsulation','Object']\n",
    "entries_os =[]\n",
    "entries_dms =[]\n",
    "entries_oops =[]\n",
    "with open('C:/Users/lalit/Desktop/Others/Numpy_Pandas_code/exam_prep/500_questions.csv', 'r') as rf:\n",
    "        #reader = csv.reader(rf)\n",
    "        lines = rf.read().split(\"\\n\")\n",
    "        for line in lines:\n",
    "            if any(word in line for word in keywords_os):\n",
    "                entries_os.append(line)    \n",
    "            if any(word in line for word in keywords_dms):\n",
    "                entries_dms.append(line)\n",
    "            if any(word in line for word in keywords_oops):\n",
    "                entries_oops.append(line)"
   ]
  },
  {
   "cell_type": "code",
   "execution_count": 4,
   "metadata": {},
   "outputs": [
    {
     "name": "stdout",
     "output_type": "stream",
     "text": [
      "['1323,Q- What is deadlock and blocking with respect to the transaction?', '1314,This level of error severity indicates a transaction deadlock error.', '1758,This level of error severity indicates a transaction deadlock error.']\n",
      "[]\n",
      "[]\n"
     ]
    }
   ],
   "source": [
    "print (list(set(entries_os).intersection(entries_dms)))\n",
    "print (list(set(entries_dms).intersection(entries_oops)))\n",
    "print (list(set(entries_os).intersection(entries_oops)))"
   ]
  },
  {
   "cell_type": "markdown",
   "metadata": {},
   "source": [
    "Thus the above are commonly asked Questions."
   ]
  },
  {
   "cell_type": "code",
   "execution_count": 6,
   "metadata": {},
   "outputs": [
    {
     "name": "stdout",
     "output_type": "stream",
     "text": [
      "58\n",
      "56\n",
      "37\n"
     ]
    }
   ],
   "source": [
    "print (len(entries_oops))\n",
    "print (len(entries_dms))\n",
    "print (len(entries_os))"
   ]
  },
  {
   "cell_type": "markdown",
   "metadata": {},
   "source": [
    "#### Trying to check whether there exists any repeated questions within each topic list.\n",
    "\n",
    "If that exists, we can conclude that the same question being asked under many topics.Thus we can add to the list of FAQ's. "
   ]
  },
  {
   "cell_type": "code",
   "execution_count": 11,
   "metadata": {},
   "outputs": [
    {
     "name": "stdout",
     "output_type": "stream",
     "text": [
      "success with entries_os. No duplicate questions within list\n",
      "success with entries_dms. No duplicate questions within list\n",
      "success with entries_oops.No duplicate questions within list\n"
     ]
    }
   ],
   "source": [
    "if len(set(entries_os)) == len(entries_os):\n",
    "    print(\"success with entries_os. No duplicate questions within list\")\n",
    "else:\n",
    "    print(\"duplicate found with os\")\n",
    "    \n",
    "if len(set(entries_dms)) == len(entries_dms):\n",
    "    print(\"success with entries_dms. No duplicate questions within list\")\n",
    "else:\n",
    "    print(\"duplicate found with dms\")\n",
    "    \n",
    "if len(set(entries_oops)) == len(entries_oops):\n",
    "    print(\"success with entries_oops.No duplicate questions within list\")\n",
    "else:\n",
    "    print(\"duplicate found with oops\")"
   ]
  },
  {
   "cell_type": "markdown",
   "metadata": {},
   "source": [
    "However, there is no duplicates found within the lists."
   ]
  }
 ],
 "metadata": {
  "kernelspec": {
   "display_name": "Python 3",
   "language": "python",
   "name": "python3"
  },
  "language_info": {
   "codemirror_mode": {
    "name": "ipython",
    "version": 3
   },
   "file_extension": ".py",
   "mimetype": "text/x-python",
   "name": "python",
   "nbconvert_exporter": "python",
   "pygments_lexer": "ipython3",
   "version": "3.6.3"
  }
 },
 "nbformat": 4,
 "nbformat_minor": 2
}
